{
 "cells": [
  {
   "cell_type": "markdown",
   "metadata": {},
   "source": [
    "# Imports"
   ]
  },
  {
   "cell_type": "code",
   "execution_count": 1,
   "metadata": {},
   "outputs": [],
   "source": [
    "import pandas as pd \n",
    "import numpy as np\n",
    "import seaborn as sns\n",
    "import math \n",
    "\n",
    "import matplotlib.pyplot as plt\n",
    "%matplotlib inline"
   ]
  },
  {
   "cell_type": "markdown",
   "metadata": {},
   "source": [
    "# Loading the data"
   ]
  },
  {
   "cell_type": "code",
   "execution_count": 2,
   "metadata": {},
   "outputs": [],
   "source": [
    "path = \"data.xls\"\n",
    "df = pd.read_excel(path)"
   ]
  },
  {
   "cell_type": "code",
   "execution_count": 3,
   "metadata": {},
   "outputs": [
    {
     "data": {
      "text/plain": [
       "(30001, 24)"
      ]
     },
     "execution_count": 3,
     "metadata": {},
     "output_type": "execute_result"
    }
   ],
   "source": [
    "df.shape"
   ]
  },
  {
   "cell_type": "code",
   "execution_count": 4,
   "metadata": {},
   "outputs": [
    {
     "data": {
      "text/plain": [
       "array(['X1', 'X2', 'X3', 'X4', 'X5', 'X6', 'X7', 'X8', 'X9', 'X10', 'X11',\n",
       "       'X12', 'X13', 'X14', 'X15', 'X16', 'X17', 'X18', 'X19', 'X20',\n",
       "       'X21', 'X22', 'X23', 'Y'], dtype=object)"
      ]
     },
     "execution_count": 4,
     "metadata": {},
     "output_type": "execute_result"
    }
   ],
   "source": [
    "df.columns.values"
   ]
  },
  {
   "cell_type": "code",
   "execution_count": 5,
   "metadata": {},
   "outputs": [],
   "source": [
    "# Mettre la première ligne en nom des colonnes\n",
    "df.columns = df.iloc[0]\n",
    "\n",
    "# et effacer celle-ci\n",
    "df.drop(\"ID\", inplace=True)"
   ]
  },
  {
   "cell_type": "code",
   "execution_count": 6,
   "metadata": {},
   "outputs": [
    {
     "data": {
      "text/html": [
       "<div>\n",
       "<style scoped>\n",
       "    .dataframe tbody tr th:only-of-type {\n",
       "        vertical-align: middle;\n",
       "    }\n",
       "\n",
       "    .dataframe tbody tr th {\n",
       "        vertical-align: top;\n",
       "    }\n",
       "\n",
       "    .dataframe thead th {\n",
       "        text-align: right;\n",
       "    }\n",
       "</style>\n",
       "<table border=\"1\" class=\"dataframe\">\n",
       "  <thead>\n",
       "    <tr style=\"text-align: right;\">\n",
       "      <th>ID</th>\n",
       "      <th>LIMIT_BAL</th>\n",
       "      <th>SEX</th>\n",
       "      <th>EDUCATION</th>\n",
       "      <th>MARRIAGE</th>\n",
       "      <th>AGE</th>\n",
       "      <th>PAY_0</th>\n",
       "      <th>PAY_2</th>\n",
       "      <th>PAY_3</th>\n",
       "      <th>PAY_4</th>\n",
       "      <th>PAY_5</th>\n",
       "      <th>...</th>\n",
       "      <th>BILL_AMT4</th>\n",
       "      <th>BILL_AMT5</th>\n",
       "      <th>BILL_AMT6</th>\n",
       "      <th>PAY_AMT1</th>\n",
       "      <th>PAY_AMT2</th>\n",
       "      <th>PAY_AMT3</th>\n",
       "      <th>PAY_AMT4</th>\n",
       "      <th>PAY_AMT5</th>\n",
       "      <th>PAY_AMT6</th>\n",
       "      <th>default payment next month</th>\n",
       "    </tr>\n",
       "  </thead>\n",
       "  <tbody>\n",
       "    <tr>\n",
       "      <th>23001</th>\n",
       "      <td>230000</td>\n",
       "      <td>2</td>\n",
       "      <td>2</td>\n",
       "      <td>1</td>\n",
       "      <td>46</td>\n",
       "      <td>-1</td>\n",
       "      <td>-1</td>\n",
       "      <td>-1</td>\n",
       "      <td>-1</td>\n",
       "      <td>-1</td>\n",
       "      <td>...</td>\n",
       "      <td>632</td>\n",
       "      <td>316</td>\n",
       "      <td>2398</td>\n",
       "      <td>316</td>\n",
       "      <td>0</td>\n",
       "      <td>632</td>\n",
       "      <td>316</td>\n",
       "      <td>2398</td>\n",
       "      <td>1783</td>\n",
       "      <td>1</td>\n",
       "    </tr>\n",
       "    <tr>\n",
       "      <th>20067</th>\n",
       "      <td>20000</td>\n",
       "      <td>2</td>\n",
       "      <td>2</td>\n",
       "      <td>2</td>\n",
       "      <td>45</td>\n",
       "      <td>0</td>\n",
       "      <td>0</td>\n",
       "      <td>0</td>\n",
       "      <td>0</td>\n",
       "      <td>-2</td>\n",
       "      <td>...</td>\n",
       "      <td>-1560</td>\n",
       "      <td>-1560</td>\n",
       "      <td>-1560</td>\n",
       "      <td>1245</td>\n",
       "      <td>1400</td>\n",
       "      <td>0</td>\n",
       "      <td>0</td>\n",
       "      <td>0</td>\n",
       "      <td>0</td>\n",
       "      <td>0</td>\n",
       "    </tr>\n",
       "    <tr>\n",
       "      <th>22122</th>\n",
       "      <td>170000</td>\n",
       "      <td>2</td>\n",
       "      <td>2</td>\n",
       "      <td>2</td>\n",
       "      <td>29</td>\n",
       "      <td>-1</td>\n",
       "      <td>-1</td>\n",
       "      <td>-1</td>\n",
       "      <td>-1</td>\n",
       "      <td>-1</td>\n",
       "      <td>...</td>\n",
       "      <td>1042</td>\n",
       "      <td>1577</td>\n",
       "      <td>1574</td>\n",
       "      <td>1359</td>\n",
       "      <td>886</td>\n",
       "      <td>1051</td>\n",
       "      <td>1577</td>\n",
       "      <td>1574</td>\n",
       "      <td>287</td>\n",
       "      <td>0</td>\n",
       "    </tr>\n",
       "    <tr>\n",
       "      <th>12680</th>\n",
       "      <td>150000</td>\n",
       "      <td>2</td>\n",
       "      <td>1</td>\n",
       "      <td>1</td>\n",
       "      <td>35</td>\n",
       "      <td>0</td>\n",
       "      <td>0</td>\n",
       "      <td>0</td>\n",
       "      <td>0</td>\n",
       "      <td>0</td>\n",
       "      <td>...</td>\n",
       "      <td>32264</td>\n",
       "      <td>25579</td>\n",
       "      <td>0</td>\n",
       "      <td>8000</td>\n",
       "      <td>5175</td>\n",
       "      <td>3000</td>\n",
       "      <td>10000</td>\n",
       "      <td>0</td>\n",
       "      <td>0</td>\n",
       "      <td>0</td>\n",
       "    </tr>\n",
       "    <tr>\n",
       "      <th>20253</th>\n",
       "      <td>80000</td>\n",
       "      <td>2</td>\n",
       "      <td>2</td>\n",
       "      <td>2</td>\n",
       "      <td>49</td>\n",
       "      <td>-1</td>\n",
       "      <td>-1</td>\n",
       "      <td>-1</td>\n",
       "      <td>-1</td>\n",
       "      <td>-1</td>\n",
       "      <td>...</td>\n",
       "      <td>390</td>\n",
       "      <td>780</td>\n",
       "      <td>390</td>\n",
       "      <td>390</td>\n",
       "      <td>390</td>\n",
       "      <td>390</td>\n",
       "      <td>780</td>\n",
       "      <td>0</td>\n",
       "      <td>390</td>\n",
       "      <td>1</td>\n",
       "    </tr>\n",
       "  </tbody>\n",
       "</table>\n",
       "<p>5 rows × 24 columns</p>\n",
       "</div>"
      ],
      "text/plain": [
       "ID    LIMIT_BAL SEX EDUCATION MARRIAGE AGE PAY_0 PAY_2 PAY_3 PAY_4 PAY_5  \\\n",
       "23001    230000   2         2        1  46    -1    -1    -1    -1    -1   \n",
       "20067     20000   2         2        2  45     0     0     0     0    -2   \n",
       "22122    170000   2         2        2  29    -1    -1    -1    -1    -1   \n",
       "12680    150000   2         1        1  35     0     0     0     0     0   \n",
       "20253     80000   2         2        2  49    -1    -1    -1    -1    -1   \n",
       "\n",
       "ID               ...             BILL_AMT4 BILL_AMT5 BILL_AMT6 PAY_AMT1  \\\n",
       "23001            ...                   632       316      2398      316   \n",
       "20067            ...                 -1560     -1560     -1560     1245   \n",
       "22122            ...                  1042      1577      1574     1359   \n",
       "12680            ...                 32264     25579         0     8000   \n",
       "20253            ...                   390       780       390      390   \n",
       "\n",
       "ID    PAY_AMT2 PAY_AMT3 PAY_AMT4 PAY_AMT5 PAY_AMT6 default payment next month  \n",
       "23001        0      632      316     2398     1783                          1  \n",
       "20067     1400        0        0        0        0                          0  \n",
       "22122      886     1051     1577     1574      287                          0  \n",
       "12680     5175     3000    10000        0        0                          0  \n",
       "20253      390      390      780        0      390                          1  \n",
       "\n",
       "[5 rows x 24 columns]"
      ]
     },
     "execution_count": 6,
     "metadata": {},
     "output_type": "execute_result"
    }
   ],
   "source": [
    "df.sample(5)"
   ]
  },
  {
   "cell_type": "markdown",
   "metadata": {},
   "source": [
    "# Visualisation des données"
   ]
  },
  {
   "cell_type": "code",
   "execution_count": 7,
   "metadata": {},
   "outputs": [
    {
     "name": "stdout",
     "output_type": "stream",
     "text": [
      "<class 'pandas.core.frame.DataFrame'>\n",
      "Index: 30000 entries, 1 to 30000\n",
      "Data columns (total 24 columns):\n",
      "LIMIT_BAL                     30000 non-null object\n",
      "SEX                           30000 non-null object\n",
      "EDUCATION                     30000 non-null object\n",
      "MARRIAGE                      30000 non-null object\n",
      "AGE                           30000 non-null object\n",
      "PAY_0                         30000 non-null object\n",
      "PAY_2                         30000 non-null object\n",
      "PAY_3                         30000 non-null object\n",
      "PAY_4                         30000 non-null object\n",
      "PAY_5                         30000 non-null object\n",
      "PAY_6                         30000 non-null object\n",
      "BILL_AMT1                     30000 non-null object\n",
      "BILL_AMT2                     30000 non-null object\n",
      "BILL_AMT3                     30000 non-null object\n",
      "BILL_AMT4                     30000 non-null object\n",
      "BILL_AMT5                     30000 non-null object\n",
      "BILL_AMT6                     30000 non-null object\n",
      "PAY_AMT1                      30000 non-null object\n",
      "PAY_AMT2                      30000 non-null object\n",
      "PAY_AMT3                      30000 non-null object\n",
      "PAY_AMT4                      30000 non-null object\n",
      "PAY_AMT5                      30000 non-null object\n",
      "PAY_AMT6                      30000 non-null object\n",
      "default payment next month    30000 non-null object\n",
      "dtypes: object(24)\n",
      "memory usage: 5.7+ MB\n"
     ]
    }
   ],
   "source": [
    "df.info()"
   ]
  },
  {
   "cell_type": "code",
   "execution_count": 8,
   "metadata": {},
   "outputs": [],
   "source": [
    "# Pas de valeurs manquantes\n",
    "# Renommer la target\n",
    "df = df.rename(columns={'default payment next month': 'target'})"
   ]
  },
  {
   "cell_type": "code",
   "execution_count": 9,
   "metadata": {},
   "outputs": [
    {
     "data": {
      "text/plain": [
       "<matplotlib.axes._subplots.AxesSubplot at 0x1ebf4de5208>"
      ]
     },
     "execution_count": 9,
     "metadata": {},
     "output_type": "execute_result"
    },
    {
     "data": {
      "image/png": "[encoded data removed]",
      "text/plain": [
       "<Figure size 432x288 with 1 Axes>"
      ]
     },
     "metadata": {
      "needs_background": "light"
     },
     "output_type": "display_data"
    }
   ],
   "source": [
    "df.SEX.value_counts().sort_index().plot(kind='bar', title=\"Nombre d'hommes et de femmes\")"
   ]
  },
  {
   "cell_type": "code",
   "execution_count": 10,
   "metadata": {},
   "outputs": [
    {
     "data": {
      "text/plain": [
       "<matplotlib.axes._subplots.AxesSubplot at 0x1ebf4eff860>"
      ]
     },
     "execution_count": 10,
     "metadata": {},
     "output_type": "execute_result"
    },
    {
     "data": {
      "image/png": "[encoded data removed]",
      "text/plain": [
       "<Figure size 432x288 with 1 Axes>"
      ]
     },
     "metadata": {
      "needs_background": "light"
     },
     "output_type": "display_data"
    }
   ],
   "source": [
    "df.MARRIAGE.value_counts().sort_index().plot(kind = 'bar', color=\"lightBlue\", title=\"Nombre de personne selon l'état civil\")"
   ]
  },
  {
   "cell_type": "code",
   "execution_count": 11,
   "metadata": {},
   "outputs": [
    {
     "data": {
      "text/plain": [
       "<matplotlib.axes._subplots.AxesSubplot at 0x1ebf51b0e48>"
      ]
     },
     "execution_count": 11,
     "metadata": {},
     "output_type": "execute_result"
    },
    {
     "data": {
      "image/png": "[encoded data removed]",
      "text/plain": [
       "<Figure size 432x288 with 1 Axes>"
      ]
     },
     "metadata": {
      "needs_background": "light"
     },
     "output_type": "display_data"
    }
   ],
   "source": [
    "df.EDUCATION.value_counts().sort_index().plot(kind='bar', color=\"lightGreen\", title=\"Nombre de personnes selon le niveau d'études\")"
   ]
  },
  {
   "cell_type": "code",
   "execution_count": 12,
   "metadata": {},
   "outputs": [
    {
     "data": {
      "text/plain": [
       "<matplotlib.axes._subplots.AxesSubplot at 0x1ebf51b0f98>"
      ]
     },
     "execution_count": 12,
     "metadata": {},
     "output_type": "execute_result"
    },
    {
     "data": {
      "image/png": "[encoded data removed]",
      "text/plain": [
       "<Figure size 432x288 with 1 Axes>"
      ]
     },
     "metadata": {
      "needs_background": "light"
     },
     "output_type": "display_data"
    }
   ],
   "source": [
    "df.AGE.value_counts().sort_index().plot(kind=\"bar\", title=\"Nombre de personnes selon leur âge\")"
   ]
  },
  {
   "cell_type": "code",
   "execution_count": 13,
   "metadata": {},
   "outputs": [
    {
     "data": {
      "text/plain": [
       "Int64Index([21, 22, 23, 24, 25, 26, 27, 28, 29, 30, 31, 32, 33, 34, 35, 36, 37,\n",
       "            38, 39, 40, 41, 42, 43, 44, 45, 46, 47, 48, 49, 50, 51, 52, 53, 54,\n",
       "            55, 56, 57, 58, 59, 60, 61, 62, 63, 64, 65, 66, 67, 68, 69, 70, 71,\n",
       "            72, 73, 74, 75, 79],\n",
       "           dtype='int64')"
      ]
     },
     "execution_count": 13,
     "metadata": {},
     "output_type": "execute_result"
    }
   ],
   "source": [
    "df.AGE.value_counts().index.sort_values()"
   ]
  },
  {
   "cell_type": "code",
   "execution_count": 14,
   "metadata": {},
   "outputs": [],
   "source": [
    "# Nouvelle colonne pour avoir une tranche d'âge car illisible sinon \n",
    "def age_range(x):\n",
    "    return math.trunc(x/10)*10\n",
    "df[\"age_range\"] = df.AGE.map(age_range)"
   ]
  },
  {
   "cell_type": "code",
   "execution_count": 15,
   "metadata": {},
   "outputs": [
    {
     "data": {
      "text/plain": [
       "<matplotlib.axes._subplots.AxesSubplot at 0x1ebf74250b8>"
      ]
     },
     "execution_count": 15,
     "metadata": {},
     "output_type": "execute_result"
    },
    {
     "data": {
      "image/png": "[encoded data removed]",
      "text/plain": [
       "<Figure size 432x288 with 1 Axes>"
      ]
     },
     "metadata": {
      "needs_background": "light"
     },
     "output_type": "display_data"
    }
   ],
   "source": [
    "df.age_range.value_counts().sort_index().plot(kind='bar', color=\"purple\", title = \"Nombre de personne selon leur tranche d'âge\")"
   ]
  },
  {
   "cell_type": "code",
   "execution_count": 16,
   "metadata": {},
   "outputs": [
    {
     "data": {
      "text/plain": [
       "<matplotlib.axes._subplots.AxesSubplot at 0x1ebf7464940>"
      ]
     },
     "execution_count": 16,
     "metadata": {},
     "output_type": "execute_result"
    },
    {
     "data": {
      "image/png": "[encoded data removed]",
      "text/plain": [
       "<Figure size 432x288 with 1 Axes>"
      ]
     },
     "metadata": {
      "needs_background": "light"
     },
     "output_type": "display_data"
    }
   ],
   "source": [
    "df.PAY_0.value_counts().sort_index().plot(kind=\"bar\", color=\"lightgray\", title=\"Nombre de mois de retards dans les paiements du mois de septembre 2005\")"
   ]
  },
  {
   "cell_type": "code",
   "execution_count": 17,
   "metadata": {},
   "outputs": [
    {
     "data": {
      "text/plain": [
       "<matplotlib.axes._subplots.AxesSubplot at 0x1ebf76809b0>"
      ]
     },
     "execution_count": 17,
     "metadata": {},
     "output_type": "execute_result"
    },
    {
     "data": {
      "image/png": "[encoded data removed]",
      "text/plain": [
       "<Figure size 432x288 with 1 Axes>"
      ]
     },
     "metadata": {},
     "output_type": "display_data"
    }
   ],
   "source": [
    "df[\"target\"].value_counts().plot(kind=\"pie\")"
   ]
  },
  {
   "cell_type": "code",
   "execution_count": 18,
   "metadata": {},
   "outputs": [
    {
     "data": {
      "text/html": [
       "<div>\n",
       "<style scoped>\n",
       "    .dataframe tbody tr th:only-of-type {\n",
       "        vertical-align: middle;\n",
       "    }\n",
       "\n",
       "    .dataframe tbody tr th {\n",
       "        vertical-align: top;\n",
       "    }\n",
       "\n",
       "    .dataframe thead th {\n",
       "        text-align: right;\n",
       "    }\n",
       "</style>\n",
       "<table border=\"1\" class=\"dataframe\">\n",
       "  <thead>\n",
       "    <tr style=\"text-align: right;\">\n",
       "      <th>target</th>\n",
       "      <th>0</th>\n",
       "      <th>1</th>\n",
       "    </tr>\n",
       "    <tr>\n",
       "      <th>SEX</th>\n",
       "      <th></th>\n",
       "      <th></th>\n",
       "    </tr>\n",
       "  </thead>\n",
       "  <tbody>\n",
       "    <tr>\n",
       "      <th>1</th>\n",
       "      <td>9015</td>\n",
       "      <td>2873</td>\n",
       "    </tr>\n",
       "    <tr>\n",
       "      <th>2</th>\n",
       "      <td>14349</td>\n",
       "      <td>3763</td>\n",
       "    </tr>\n",
       "  </tbody>\n",
       "</table>\n",
       "</div>"
      ],
      "text/plain": [
       "target      0     1\n",
       "SEX                \n",
       "1        9015  2873\n",
       "2       14349  3763"
      ]
     },
     "execution_count": 18,
     "metadata": {},
     "output_type": "execute_result"
    }
   ],
   "source": [
    "target_by_sex = pd.crosstab(df.SEX, df.target)\n",
    "target_by_sex"
   ]
  },
  {
   "cell_type": "code",
   "execution_count": 19,
   "metadata": {},
   "outputs": [
    {
     "data": {
      "text/plain": [
       "<matplotlib.axes._subplots.AxesSubplot at 0x1ebf7714f28>"
      ]
     },
     "execution_count": 19,
     "metadata": {},
     "output_type": "execute_result"
    },
    {
     "data": {
      "image/png": "[encoded data removed]",
      "text/plain": [
       "<Figure size 432x288 with 1 Axes>"
      ]
     },
     "metadata": {
      "needs_background": "light"
     },
     "output_type": "display_data"
    }
   ],
   "source": [
    "target_by_sex.plot(kind='barh', stacked = True, color=[\"lightgreen\",\"orange\"], title=\"Retard de paiement selon le sexe\")"
   ]
  },
  {
   "cell_type": "code",
   "execution_count": 20,
   "metadata": {},
   "outputs": [
    {
     "data": {
      "text/html": [
       "<div>\n",
       "<style scoped>\n",
       "    .dataframe tbody tr th:only-of-type {\n",
       "        vertical-align: middle;\n",
       "    }\n",
       "\n",
       "    .dataframe tbody tr th {\n",
       "        vertical-align: top;\n",
       "    }\n",
       "\n",
       "    .dataframe thead th {\n",
       "        text-align: right;\n",
       "    }\n",
       "</style>\n",
       "<table border=\"1\" class=\"dataframe\">\n",
       "  <thead>\n",
       "    <tr style=\"text-align: right;\">\n",
       "      <th>target</th>\n",
       "      <th>0</th>\n",
       "      <th>1</th>\n",
       "    </tr>\n",
       "    <tr>\n",
       "      <th>MARRIAGE</th>\n",
       "      <th></th>\n",
       "      <th></th>\n",
       "    </tr>\n",
       "  </thead>\n",
       "  <tbody>\n",
       "    <tr>\n",
       "      <th>0</th>\n",
       "      <td>49</td>\n",
       "      <td>5</td>\n",
       "    </tr>\n",
       "    <tr>\n",
       "      <th>1</th>\n",
       "      <td>10453</td>\n",
       "      <td>3206</td>\n",
       "    </tr>\n",
       "    <tr>\n",
       "      <th>2</th>\n",
       "      <td>12623</td>\n",
       "      <td>3341</td>\n",
       "    </tr>\n",
       "    <tr>\n",
       "      <th>3</th>\n",
       "      <td>239</td>\n",
       "      <td>84</td>\n",
       "    </tr>\n",
       "  </tbody>\n",
       "</table>\n",
       "</div>"
      ],
      "text/plain": [
       "target        0     1\n",
       "MARRIAGE             \n",
       "0            49     5\n",
       "1         10453  3206\n",
       "2         12623  3341\n",
       "3           239    84"
      ]
     },
     "execution_count": 20,
     "metadata": {},
     "output_type": "execute_result"
    }
   ],
   "source": [
    "target_by_situation = pd.crosstab(df.MARRIAGE, df.target)\n",
    "target_by_situation"
   ]
  },
  {
   "cell_type": "code",
   "execution_count": 21,
   "metadata": {},
   "outputs": [
    {
     "data": {
      "text/plain": [
       "<matplotlib.axes._subplots.AxesSubplot at 0x1ebf78f5b70>"
      ]
     },
     "execution_count": 21,
     "metadata": {},
     "output_type": "execute_result"
    },
    {
     "data": {
      "image/png": "[encoded data removed]",
      "text/plain": [
       "<Figure size 432x288 with 1 Axes>"
      ]
     },
     "metadata": {
      "needs_background": "light"
     },
     "output_type": "display_data"
    }
   ],
   "source": [
    "target_by_situation.plot(kind='barh', stacked = True, color=[\"lightgreen\",\"orange\"], title=\"Retard de paiement selon l'état civil\")"
   ]
  },
  {
   "cell_type": "code",
   "execution_count": 22,
   "metadata": {},
   "outputs": [
    {
     "data": {
      "text/plain": [
       "<matplotlib.axes._subplots.AxesSubplot at 0x1ebf7a822b0>"
      ]
     },
     "execution_count": 22,
     "metadata": {},
     "output_type": "execute_result"
    },
    {
     "data": {
      "image/png": "[encoded data removed]",
      "text/plain": [
       "<Figure size 432x288 with 1 Axes>"
      ]
     },
     "metadata": {
      "needs_background": "light"
     },
     "output_type": "display_data"
    }
   ],
   "source": [
    "target_by_education = pd.crosstab(df.EDUCATION, df.target)\n",
    "target_by_education.plot(kind='barh', stacked = True, color=[\"lightgreen\",\"orange\"], title=\"Retard de paiement selon le niveau d'études\")\n",
    "\n",
    "#Pour rapport : en terme de pourcentage => plus le niveau d'étude est élevé, moins il y a de retard"
   ]
  },
  {
   "cell_type": "markdown",
   "metadata": {},
   "source": [
    "\n",
    "# Cleaning Data"
   ]
  },
  {
   "cell_type": "code",
   "execution_count": 23,
   "metadata": {},
   "outputs": [],
   "source": [
    "# Renommer certaines colonnes \n",
    "df = df.rename(columns={'PAY_0': 'Sept_Pay', \n",
    "                        'PAY_2': 'Aug_Pay', \n",
    "                        'PAY_3': 'July_Pay', \n",
    "                        'PAY_4': 'June_Pay', \n",
    "                        'PAY_5': 'May_Pay', \n",
    "                        'PAY_6': 'Apr_Pay', \n",
    "                        \n",
    "                        'BILL_AMT1': 'Sept_Bill', \n",
    "                        'BILL_AMT2': 'Aug_Bill', \n",
    "                        'BILL_AMT3': 'July_Bill', \n",
    "                        'BILL_AMT4': 'June_Bill', \n",
    "                        'BILL_AMT5': 'May_Bill', \n",
    "                        'BILL_AMT6': 'Apr_Bill', \n",
    "                        \n",
    "                        'PAY_AMT1': 'Sept_Previous_Payment', \n",
    "                        'PAY_AMT2': 'Aug_Previous_Payment', \n",
    "                        'PAY_AMT3': 'July_Previous_Payment', \n",
    "                        'PAY_AMT4': 'June_Previous_Payment', \n",
    "                        'PAY_AMT5': 'May_Previous_Payment', \n",
    "                        'PAY_AMT6': 'Apr_Previous_Payment',})"
   ]
  },
  {
   "cell_type": "code",
   "execution_count": 24,
   "metadata": {},
   "outputs": [
    {
     "data": {
      "text/plain": [
       "2    14030\n",
       "1    10585\n",
       "3     4917\n",
       "4      468\n",
       "Name: EDUCATION, dtype: int64"
      ]
     },
     "execution_count": 24,
     "metadata": {},
     "output_type": "execute_result"
    }
   ],
   "source": [
    "# Pas de correspondance pour les niveaux d'études 0,5 et 6 donc on les rassemble dans 4=\"others\" \n",
    "condition = (df.EDUCATION == 0) | (df.EDUCATION == 5) | (df.EDUCATION == 6)\n",
    "df.loc[condition, 'EDUCATION'] = 4\n",
    "df.EDUCATION.value_counts()"
   ]
  },
  {
   "cell_type": "code",
   "execution_count": 25,
   "metadata": {},
   "outputs": [
    {
     "data": {
      "text/plain": [
       "2    15964\n",
       "1    13659\n",
       "3      377\n",
       "Name: MARRIAGE, dtype: int64"
      ]
     },
     "execution_count": 25,
     "metadata": {},
     "output_type": "execute_result"
    }
   ],
   "source": [
    "# Pareil pour marriage :\n",
    "condition = (df.MARRIAGE == 0)\n",
    "df.loc[condition, 'MARRIAGE'] = 3\n",
    "df.MARRIAGE.value_counts()"
   ]
  },
  {
   "cell_type": "code",
   "execution_count": 26,
   "metadata": {},
   "outputs": [],
   "source": [
    "# Remplacer les -2 et 0 qui ne sont pas documentés => remplacés par -1=paiement sans retard\n",
    "columnList = [\"Sept_Pay\", \"Aug_Pay\", \"July_Pay\", \"June_Pay\", \"May_Pay\", \"Apr_Pay\"]\n",
    "for x in columnList:\n",
    "    condition = (df[x] == -2) | (df[x] == 0)\n",
    "    df.loc[condition, x] = -1"
   ]
  },
  {
   "cell_type": "markdown",
   "metadata": {},
   "source": [
    "# Feature Engineering"
   ]
  },
  {
   "cell_type": "code",
   "execution_count": 27,
   "metadata": {},
   "outputs": [],
   "source": [
    "df['SEX_MAR'] = 0\n",
    "df.loc[((df.SEX == 1) & (df.MARRIAGE == 1)) , 'SEX_MAR'] = 1 #homme marrié\n",
    "df.loc[((df.SEX == 1) & (df.MARRIAGE == 2)) , 'SEX_MAR'] = 2 #homme célibataire\n",
    "df.loc[((df.SEX == 1) & (df.MARRIAGE == 3)) , 'SEX_MAR'] = 3 #homme \"autre\"\n",
    "df.loc[((df.SEX == 2) & (df.MARRIAGE == 1)) , 'SEX_MAR'] = 4 #femme mariée\n",
    "df.loc[((df.SEX == 2) & (df.MARRIAGE == 2)) , 'SEX_MAR'] = 5 #femme célibataire\n",
    "df.loc[((df.SEX == 2) & (df.MARRIAGE == 3)) , 'SEX_MAR'] = 6 #femme \"autre\""
   ]
  },
  {
   "cell_type": "code",
   "execution_count": 28,
   "metadata": {},
   "outputs": [
    {
     "data": {
      "text/plain": [
       "<matplotlib.axes._subplots.AxesSubplot at 0x1ebf4e43978>"
      ]
     },
     "execution_count": 28,
     "metadata": {},
     "output_type": "execute_result"
    },
    {
     "data": {
      "image/png": "[encoded data removed]",
      "text/plain": [
       "<Figure size 432x288 with 1 Axes>"
      ]
     },
     "metadata": {
      "needs_background": "light"
     },
     "output_type": "display_data"
    }
   ],
   "source": [
    "df.SEX_MAR.value_counts().sort_index().plot(kind=\"bar\", color=[\"darkblue\",\"blue\",\"lightblue\",\"darkred\",\"red\",\"pink\"], title=\"Nombre d'hommes et de femmes selon leur état civil\")"
   ]
  },
  {
   "cell_type": "markdown",
   "metadata": {},
   "source": [
    "# Model"
   ]
  },
  {
   "cell_type": "code",
   "execution_count": 87,
   "metadata": {},
   "outputs": [
    {
     "data": {
      "text/plain": [
       "0.2212"
      ]
     },
     "execution_count": 87,
     "metadata": {},
     "output_type": "execute_result"
    }
   ],
   "source": [
    "# Avoir une idée naïve d'une prédiction\n",
    "df.target.sum() / len(df.target)"
   ]
  },
  {
   "cell_type": "markdown",
   "metadata": {},
   "source": [
    "### Imports"
   ]
  },
  {
   "cell_type": "code",
   "execution_count": 30,
   "metadata": {},
   "outputs": [
    {
     "name": "stdout",
     "output_type": "stream",
     "text": [
      "Requirement already satisfied: catboost in d:\\applications\\lib\\site-packages (0.12.2)\n",
      "Requirement already satisfied: numpy>=1.11.1 in d:\\applications\\lib\\site-packages (from catboost) (1.15.4)\n",
      "Requirement already satisfied: pandas>=0.19.1 in d:\\applications\\lib\\site-packages (from catboost) (0.23.4)\n",
      "Requirement already satisfied: six in d:\\applications\\lib\\site-packages (from catboost) (1.11.0)\n",
      "Requirement already satisfied: enum34 in d:\\applications\\lib\\site-packages (from catboost) (1.1.6)\n",
      "Requirement already satisfied: python-dateutil>=2.5.0 in d:\\applications\\lib\\site-packages (from pandas>=0.19.1->catboost) (2.7.3)\n",
      "Requirement already satisfied: pytz>=2011k in d:\\applications\\lib\\site-packages (from pandas>=0.19.1->catboost) (2018.5)\n"
     ]
    },
    {
     "name": "stderr",
     "output_type": "stream",
     "text": [
      "You are using pip version 18.1, however version 19.0.2 is available.\n",
      "You should consider upgrading via the 'python -m pip install --upgrade pip' command.\n"
     ]
    }
   ],
   "source": [
    "#imports\n",
    "from sklearn.tree import DecisionTreeClassifier\n",
    "from sklearn.metrics import accuracy_score, make_scorer,roc_auc_score\n",
    "from sklearn.model_selection import train_test_split\n",
    "from sklearn.model_selection import GridSearchCV\n",
    "\n",
    "from sklearn.ensemble import RandomForestClassifier\n",
    "from sklearn.ensemble import AdaBoostClassifier\n",
    "!pip3 install catboost\n",
    "from catboost import CatBoostClassifier\n",
    "import lightgbm as lgb\n",
    "import xgboost as xgb"
   ]
  },
  {
   "cell_type": "markdown",
   "metadata": {},
   "source": [
    "### Jeux de train & test"
   ]
  },
  {
   "cell_type": "code",
   "execution_count": 89,
   "metadata": {},
   "outputs": [],
   "source": [
    "columns = df.columns.drop('target')\n",
    "X = df[columns]\n",
    "y = df[\"target\"].astype(\"int\") #erreur si type=\"object\""
   ]
  },
  {
   "cell_type": "code",
   "execution_count": 90,
   "metadata": {},
   "outputs": [],
   "source": [
    "X_train, X_test, y_train, y_test = train_test_split(X, y, test_size=0.2, random_state=1)"
   ]
  },
  {
   "cell_type": "markdown",
   "metadata": {},
   "source": [
    "### DecisionTreeClassifier"
   ]
  },
  {
   "cell_type": "code",
   "execution_count": 91,
   "metadata": {},
   "outputs": [
    {
     "data": {
      "text/plain": [
       "0.8105"
      ]
     },
     "execution_count": 91,
     "metadata": {},
     "output_type": "execute_result"
    }
   ],
   "source": [
    "#create the classifier\n",
    "classifier = DecisionTreeClassifier(max_depth=10, random_state=14) \n",
    "# training the classifier\n",
    "classifier.fit(X_train, y_train)\n",
    "# do our predictions on the test\n",
    "predictions = classifier.predict(X_test)\n",
    "# see how good we did on the test\n",
    "accuracy_score(y_true = y_test, y_pred = predictions)"
   ]
  },
  {
   "cell_type": "code",
   "execution_count": 92,
   "metadata": {},
   "outputs": [
    {
     "data": {
      "text/plain": [
       "0.6569516127454132"
      ]
     },
     "execution_count": 92,
     "metadata": {},
     "output_type": "execute_result"
    }
   ],
   "source": [
    "roc_auc_score(y_test, predictions)"
   ]
  },
  {
   "cell_type": "markdown",
   "metadata": {},
   "source": [
    "### GridSearch with DecisionTreeClassifier"
   ]
  },
  {
   "cell_type": "code",
   "execution_count": 93,
   "metadata": {},
   "outputs": [
    {
     "name": "stdout",
     "output_type": "stream",
     "text": [
      "DecisionTreeClassifier(class_weight=None, criterion='entropy', max_depth=3,\n",
      "            max_features=None, max_leaf_nodes=10,\n",
      "            min_impurity_decrease=0.0, min_impurity_split=None,\n",
      "            min_samples_leaf=1, min_samples_split=2,\n",
      "            min_weight_fraction_leaf=0.0, presort=False, random_state=None,\n",
      "            splitter='best')\n",
      "0.8208333333333333\n"
     ]
    }
   ],
   "source": [
    "# define the parameters grid\n",
    "param_grid = {'max_depth': np.arange(3, 10),\n",
    "             'criterion' : ['gini','entropy'],\n",
    "             'max_leaf_nodes': [5,10,20,100],\n",
    "             'min_samples_split': [2, 5, 10, 20]}\n",
    "\n",
    "# create the grid\n",
    "grid_tree = GridSearchCV(DecisionTreeClassifier(), param_grid, cv = 5, scoring= 'accuracy')\n",
    "# the cv option will be clear in a few cells\n",
    "\n",
    "#training\n",
    "grid_tree.fit(X_train, y_train)\n",
    "#let's see the best estimator\n",
    "print(grid_tree.best_estimator_)\n",
    "#with its score\n",
    "print(np.abs(grid_tree.best_score_))"
   ]
  },
  {
   "cell_type": "code",
   "execution_count": 94,
   "metadata": {},
   "outputs": [
    {
     "data": {
      "text/plain": [
       "0.6523335489638108"
      ]
     },
     "execution_count": 94,
     "metadata": {},
     "output_type": "execute_result"
    }
   ],
   "source": [
    "classifier = DecisionTreeClassifier(class_weight=None, criterion='entropy', max_depth=3,\n",
    "            max_features=None, max_leaf_nodes=10,\n",
    "            min_impurity_decrease=0.0, min_impurity_split=None,\n",
    "            min_samples_leaf=1, min_samples_split=2,\n",
    "            min_weight_fraction_leaf=0.0, presort=False, random_state=None,\n",
    "            splitter='best')\n",
    "classifier.fit(X_train, y_train)\n",
    "predictions = classifier.predict(X_test)\n",
    "roc_auc_score(y_test, predictions)"
   ]
  },
  {
   "cell_type": "code",
   "execution_count": null,
   "metadata": {},
   "outputs": [],
   "source": [
    "tab = pd.DataFrame(index=columns)\n",
    "tab[\"importance\"]= classifier.feature_importances_\n",
    "tab"
   ]
  },
  {
   "cell_type": "code",
   "execution_count": null,
   "metadata": {},
   "outputs": [],
   "source": [
    "tab.sort_values(by=\"importance\", ascending=False).plot(kind=\"bar\", color=\"purple\")"
   ]
  },
  {
   "cell_type": "markdown",
   "metadata": {},
   "source": [
    "### RandomForestClassifier"
   ]
  },
  {
   "cell_type": "code",
   "execution_count": 77,
   "metadata": {},
   "outputs": [
    {
     "data": {
      "text/plain": [
       "RandomForestClassifier(bootstrap=True, class_weight=None, criterion='gini',\n",
       "            max_depth=None, max_features='auto', max_leaf_nodes=None,\n",
       "            min_impurity_decrease=0.0, min_impurity_split=None,\n",
       "            min_samples_leaf=1, min_samples_split=2,\n",
       "            min_weight_fraction_leaf=0.0, n_estimators=100, n_jobs=4,\n",
       "            oob_score=False, random_state=1000, verbose=False,\n",
       "            warm_start=False)"
      ]
     },
     "execution_count": 77,
     "metadata": {},
     "output_type": "execute_result"
    }
   ],
   "source": [
    "classifier = RandomForestClassifier(n_jobs=4, \n",
    "                             random_state=1000,\n",
    "                             criterion='gini',\n",
    "                             n_estimators=100,\n",
    "                             verbose=False)\n",
    "classifier.fit(X_train, y_train)"
   ]
  },
  {
   "cell_type": "code",
   "execution_count": 78,
   "metadata": {},
   "outputs": [
    {
     "data": {
      "text/plain": [
       "0.8136666666666666"
      ]
     },
     "execution_count": 78,
     "metadata": {},
     "output_type": "execute_result"
    }
   ],
   "source": [
    "predictions = classifier.predict(X_test)\n",
    "# see how good we did on the test\n",
    "accuracy_score(y_true = y_test, y_pred = predictions)"
   ]
  },
  {
   "cell_type": "code",
   "execution_count": 79,
   "metadata": {},
   "outputs": [
    {
     "data": {
      "text/plain": [
       "0.6483191489327573"
      ]
     },
     "execution_count": 79,
     "metadata": {},
     "output_type": "execute_result"
    }
   ],
   "source": [
    "roc_auc_score(y_test, predictions)"
   ]
  },
  {
   "cell_type": "markdown",
   "metadata": {},
   "source": [
    "### CatBoostClassifier"
   ]
  },
  {
   "cell_type": "code",
   "execution_count": 86,
   "metadata": {},
   "outputs": [
    {
     "name": "stdout",
     "output_type": "stream",
     "text": [
      "0:\ttotal: 183ms\tremaining: 1m 31s\n",
      "1:\ttotal: 3.04s\tremaining: 12m 37s\n",
      "2:\ttotal: 5.38s\tremaining: 14m 50s\n",
      "3:\ttotal: 7.79s\tremaining: 16m 5s\n",
      "4:\ttotal: 8.88s\tremaining: 14m 39s\n",
      "5:\ttotal: 9.01s\tremaining: 12m 21s\n",
      "6:\ttotal: 11.5s\tremaining: 13m 30s\n",
      "7:\ttotal: 11.6s\tremaining: 11m 53s\n",
      "8:\ttotal: 13.8s\tremaining: 12m 33s\n",
      "9:\ttotal: 16.3s\tremaining: 13m 20s\n",
      "10:\ttotal: 18.9s\tremaining: 14m 1s\n",
      "11:\ttotal: 21.4s\tremaining: 14m 31s\n",
      "12:\ttotal: 24s\tremaining: 15m\n",
      "13:\ttotal: 26.5s\tremaining: 15m 20s\n",
      "14:\ttotal: 28.9s\tremaining: 15m 33s\n",
      "15:\ttotal: 31.4s\tremaining: 15m 50s\n",
      "16:\ttotal: 33.8s\tremaining: 16m 1s\n",
      "17:\ttotal: 36.2s\tremaining: 16m 10s\n",
      "18:\ttotal: 38.7s\tremaining: 16m 19s\n",
      "19:\ttotal: 41.2s\tremaining: 16m 28s\n",
      "20:\ttotal: 41.8s\tremaining: 15m 52s\n",
      "21:\ttotal: 42.3s\tremaining: 15m 18s\n",
      "22:\ttotal: 44.3s\tremaining: 15m 18s\n",
      "23:\ttotal: 46.7s\tremaining: 15m 26s\n",
      "24:\ttotal: 48.7s\tremaining: 15m 25s\n",
      "25:\ttotal: 51.2s\tremaining: 15m 33s\n",
      "26:\ttotal: 53.7s\tremaining: 15m 41s\n",
      "27:\ttotal: 56.3s\tremaining: 15m 48s\n",
      "28:\ttotal: 58.7s\tremaining: 15m 53s\n",
      "29:\ttotal: 58.8s\tremaining: 15m 21s\n",
      "30:\ttotal: 1m 1s\tremaining: 15m 26s\n",
      "31:\ttotal: 1m 3s\tremaining: 15m 32s\n",
      "32:\ttotal: 1m 6s\tremaining: 15m 36s\n",
      "33:\ttotal: 1m 6s\tremaining: 15m 8s\n",
      "34:\ttotal: 1m 6s\tremaining: 14m 42s\n",
      "35:\ttotal: 1m 8s\tremaining: 14m 41s\n",
      "36:\ttotal: 1m 10s\tremaining: 14m 46s\n",
      "37:\ttotal: 1m 13s\tremaining: 14m 53s\n",
      "38:\ttotal: 1m 15s\tremaining: 14m 52s\n",
      "39:\ttotal: 1m 18s\tremaining: 14m 57s\n",
      "40:\ttotal: 1m 20s\tremaining: 15m 1s\n",
      "41:\ttotal: 1m 23s\tremaining: 15m 5s\n",
      "42:\ttotal: 1m 24s\tremaining: 14m 53s\n",
      "43:\ttotal: 1m 26s\tremaining: 14m 56s\n",
      "44:\ttotal: 1m 29s\tremaining: 15m 1s\n",
      "45:\ttotal: 1m 29s\tremaining: 14m 43s\n",
      "46:\ttotal: 1m 30s\tremaining: 14m 32s\n",
      "47:\ttotal: 1m 32s\tremaining: 14m 35s\n",
      "48:\ttotal: 1m 35s\tremaining: 14m 39s\n",
      "49:\ttotal: 1m 36s\tremaining: 14m 28s\n",
      "50:\ttotal: 1m 38s\tremaining: 14m 31s\n",
      "51:\ttotal: 1m 41s\tremaining: 14m 34s\n",
      "52:\ttotal: 1m 43s\tremaining: 14m 36s\n",
      "53:\ttotal: 1m 46s\tremaining: 14m 39s\n",
      "54:\ttotal: 1m 48s\tremaining: 14m 37s\n",
      "55:\ttotal: 1m 50s\tremaining: 14m 39s\n",
      "56:\ttotal: 1m 53s\tremaining: 14m 42s\n",
      "57:\ttotal: 1m 56s\tremaining: 14m 44s\n",
      "58:\ttotal: 1m 57s\tremaining: 14m 35s\n",
      "59:\ttotal: 1m 59s\tremaining: 14m 37s\n",
      "60:\ttotal: 2m 2s\tremaining: 14m 39s\n",
      "61:\ttotal: 2m 2s\tremaining: 14m 24s\n",
      "62:\ttotal: 2m 5s\tremaining: 14m 27s\n",
      "63:\ttotal: 2m 5s\tremaining: 14m 12s\n",
      "64:\ttotal: 2m 5s\tremaining: 13m 58s\n",
      "65:\ttotal: 2m 7s\tremaining: 14m\n",
      "66:\ttotal: 2m 10s\tremaining: 14m 1s\n",
      "67:\ttotal: 2m 12s\tremaining: 14m 4s\n",
      "68:\ttotal: 2m 15s\tremaining: 14m 8s\n",
      "69:\ttotal: 2m 18s\tremaining: 14m 9s\n",
      "70:\ttotal: 2m 18s\tremaining: 13m 56s\n",
      "71:\ttotal: 2m 21s\tremaining: 13m 58s\n",
      "72:\ttotal: 2m 21s\tremaining: 13m 48s\n",
      "73:\ttotal: 2m 21s\tremaining: 13m 35s\n",
      "74:\ttotal: 2m 24s\tremaining: 13m 37s\n",
      "75:\ttotal: 2m 24s\tremaining: 13m 25s\n",
      "76:\ttotal: 2m 26s\tremaining: 13m 26s\n",
      "77:\ttotal: 2m 29s\tremaining: 13m 28s\n",
      "78:\ttotal: 2m 29s\tremaining: 13m 16s\n",
      "79:\ttotal: 2m 32s\tremaining: 13m 18s\n",
      "80:\ttotal: 2m 32s\tremaining: 13m 7s\n",
      "81:\ttotal: 2m 32s\tremaining: 12m 57s\n",
      "82:\ttotal: 2m 34s\tremaining: 12m 58s\n",
      "83:\ttotal: 2m 37s\tremaining: 13m\n",
      "84:\ttotal: 2m 40s\tremaining: 13m 1s\n",
      "85:\ttotal: 2m 41s\tremaining: 12m 55s\n",
      "86:\ttotal: 2m 41s\tremaining: 12m 47s\n",
      "87:\ttotal: 2m 44s\tremaining: 12m 48s\n",
      "88:\ttotal: 2m 44s\tremaining: 12m 39s\n",
      "89:\ttotal: 2m 47s\tremaining: 12m 41s\n",
      "90:\ttotal: 2m 49s\tremaining: 12m 43s\n",
      "91:\ttotal: 2m 52s\tremaining: 12m 44s\n",
      "92:\ttotal: 2m 55s\tremaining: 12m 45s\n",
      "93:\ttotal: 2m 57s\tremaining: 12m 47s\n",
      "94:\ttotal: 2m 57s\tremaining: 12m 38s\n",
      "95:\ttotal: 2m 57s\tremaining: 12m 28s\n",
      "96:\ttotal: 3m\tremaining: 12m 29s\n",
      "97:\ttotal: 3m\tremaining: 12m 21s\n",
      "98:\ttotal: 3m\tremaining: 12m 12s\n",
      "99:\ttotal: 3m 3s\tremaining: 12m 13s\n",
      "100:\ttotal: 3m 6s\tremaining: 12m 15s\n",
      "101:\ttotal: 3m 8s\tremaining: 12m 16s\n",
      "102:\ttotal: 3m 11s\tremaining: 12m 17s\n",
      "103:\ttotal: 3m 13s\tremaining: 12m 18s\n",
      "104:\ttotal: 3m 16s\tremaining: 12m 19s\n",
      "105:\ttotal: 3m 19s\tremaining: 12m 20s\n",
      "106:\ttotal: 3m 19s\tremaining: 12m 11s\n",
      "107:\ttotal: 3m 21s\tremaining: 12m 13s\n",
      "108:\ttotal: 3m 24s\tremaining: 12m 13s\n",
      "109:\ttotal: 3m 27s\tremaining: 12m 14s\n",
      "110:\ttotal: 3m 27s\tremaining: 12m 6s\n",
      "111:\ttotal: 3m 29s\tremaining: 12m 6s\n",
      "112:\ttotal: 3m 32s\tremaining: 12m 7s\n",
      "113:\ttotal: 3m 32s\tremaining: 12m 1s\n",
      "114:\ttotal: 3m 35s\tremaining: 12m 1s\n",
      "115:\ttotal: 3m 38s\tremaining: 12m 1s\n",
      "116:\ttotal: 3m 40s\tremaining: 12m\n",
      "117:\ttotal: 3m 41s\tremaining: 11m 58s\n",
      "118:\ttotal: 3m 44s\tremaining: 11m 58s\n",
      "119:\ttotal: 3m 47s\tremaining: 11m 59s\n",
      "120:\ttotal: 3m 49s\tremaining: 11m 59s\n",
      "121:\ttotal: 3m 52s\tremaining: 11m 59s\n",
      "122:\ttotal: 3m 52s\tremaining: 11m 52s\n",
      "123:\ttotal: 3m 52s\tremaining: 11m 46s\n",
      "124:\ttotal: 3m 55s\tremaining: 11m 46s\n",
      "125:\ttotal: 3m 58s\tremaining: 11m 46s\n",
      "126:\ttotal: 4m\tremaining: 11m 46s\n",
      "127:\ttotal: 4m 3s\tremaining: 11m 46s\n",
      "128:\ttotal: 4m 5s\tremaining: 11m 46s\n",
      "129:\ttotal: 4m 5s\tremaining: 11m 39s\n",
      "130:\ttotal: 4m 8s\tremaining: 11m 39s\n",
      "131:\ttotal: 4m 10s\tremaining: 11m 39s\n",
      "132:\ttotal: 4m 11s\tremaining: 11m 33s\n",
      "133:\ttotal: 4m 11s\tremaining: 11m 26s\n",
      "134:\ttotal: 4m 11s\tremaining: 11m 19s\n",
      "135:\ttotal: 4m 11s\tremaining: 11m 13s\n",
      "136:\ttotal: 4m 13s\tremaining: 11m 11s\n",
      "137:\ttotal: 4m 16s\tremaining: 11m 11s\n",
      "138:\ttotal: 4m 16s\tremaining: 11m 5s\n",
      "139:\ttotal: 4m 16s\tremaining: 10m 59s\n",
      "140:\ttotal: 4m 19s\tremaining: 10m 59s\n",
      "141:\ttotal: 4m 21s\tremaining: 10m 59s\n",
      "142:\ttotal: 4m 24s\tremaining: 10m 59s\n",
      "143:\ttotal: 4m 26s\tremaining: 10m 59s\n",
      "144:\ttotal: 4m 29s\tremaining: 10m 59s\n",
      "145:\ttotal: 4m 32s\tremaining: 10m 59s\n",
      "146:\ttotal: 4m 34s\tremaining: 10m 59s\n",
      "147:\ttotal: 4m 34s\tremaining: 10m 53s\n",
      "148:\ttotal: 4m 37s\tremaining: 10m 53s\n",
      "149:\ttotal: 4m 37s\tremaining: 10m 47s\n",
      "150:\ttotal: 4m 39s\tremaining: 10m 47s\n",
      "151:\ttotal: 4m 42s\tremaining: 10m 47s\n",
      "152:\ttotal: 4m 43s\tremaining: 10m 42s\n",
      "153:\ttotal: 4m 45s\tremaining: 10m 40s\n",
      "154:\ttotal: 4m 47s\tremaining: 10m 40s\n",
      "155:\ttotal: 4m 50s\tremaining: 10m 40s\n",
      "156:\ttotal: 4m 53s\tremaining: 10m 40s\n",
      "157:\ttotal: 4m 55s\tremaining: 10m 40s\n",
      "158:\ttotal: 4m 57s\tremaining: 10m 38s\n",
      "159:\ttotal: 5m\tremaining: 10m 38s\n",
      "160:\ttotal: 5m 3s\tremaining: 10m 38s\n",
      "161:\ttotal: 5m 5s\tremaining: 10m 38s\n",
      "162:\ttotal: 5m 8s\tremaining: 10m 38s\n",
      "163:\ttotal: 5m 11s\tremaining: 10m 38s\n",
      "164:\ttotal: 5m 14s\tremaining: 10m 38s\n",
      "165:\ttotal: 5m 17s\tremaining: 10m 38s\n",
      "166:\ttotal: 5m 17s\tremaining: 10m 33s\n",
      "167:\ttotal: 5m 20s\tremaining: 10m 33s\n",
      "168:\ttotal: 5m 23s\tremaining: 10m 33s\n",
      "169:\ttotal: 5m 26s\tremaining: 10m 34s\n",
      "170:\ttotal: 5m 29s\tremaining: 10m 34s\n",
      "171:\ttotal: 5m 32s\tremaining: 10m 33s\n",
      "172:\ttotal: 5m 32s\tremaining: 10m 28s\n",
      "173:\ttotal: 5m 32s\tremaining: 10m 23s\n",
      "174:\ttotal: 5m 35s\tremaining: 10m 23s\n",
      "175:\ttotal: 5m 38s\tremaining: 10m 23s\n",
      "176:\ttotal: 5m 41s\tremaining: 10m 22s\n",
      "177:\ttotal: 5m 44s\tremaining: 10m 22s\n",
      "178:\ttotal: 5m 46s\tremaining: 10m 21s\n",
      "179:\ttotal: 5m 46s\tremaining: 10m 16s\n",
      "180:\ttotal: 5m 49s\tremaining: 10m 16s\n",
      "181:\ttotal: 5m 52s\tremaining: 10m 15s\n",
      "182:\ttotal: 5m 52s\tremaining: 10m 10s\n",
      "183:\ttotal: 5m 52s\tremaining: 10m 5s\n",
      "184:\ttotal: 5m 54s\tremaining: 10m 3s\n",
      "185:\ttotal: 5m 55s\tremaining: 9m 59s\n",
      "186:\ttotal: 5m 57s\tremaining: 9m 58s\n",
      "187:\ttotal: 6m\tremaining: 9m 58s\n",
      "188:\ttotal: 6m 3s\tremaining: 9m 57s\n",
      "189:\ttotal: 6m 6s\tremaining: 9m 57s\n",
      "190:\ttotal: 6m 8s\tremaining: 9m 56s\n",
      "191:\ttotal: 6m 11s\tremaining: 9m 56s\n",
      "192:\ttotal: 6m 13s\tremaining: 9m 54s\n",
      "193:\ttotal: 6m 16s\tremaining: 9m 53s\n",
      "194:\ttotal: 6m 16s\tremaining: 9m 49s\n",
      "195:\ttotal: 6m 16s\tremaining: 9m 44s\n",
      "196:\ttotal: 6m 19s\tremaining: 9m 43s\n",
      "197:\ttotal: 6m 22s\tremaining: 9m 43s\n",
      "198:\ttotal: 6m 25s\tremaining: 9m 42s\n",
      "199:\ttotal: 6m 25s\tremaining: 9m 38s\n",
      "200:\ttotal: 6m 25s\tremaining: 9m 33s\n",
      "201:\ttotal: 6m 26s\tremaining: 9m 29s\n",
      "202:\ttotal: 6m 29s\tremaining: 9m 29s\n",
      "203:\ttotal: 6m 32s\tremaining: 9m 28s\n",
      "204:\ttotal: 6m 34s\tremaining: 9m 28s\n",
      "205:\ttotal: 6m 34s\tremaining: 9m 23s\n",
      "206:\ttotal: 6m 37s\tremaining: 9m 22s\n",
      "207:\ttotal: 6m 40s\tremaining: 9m 22s\n",
      "208:\ttotal: 6m 43s\tremaining: 9m 21s\n",
      "209:\ttotal: 6m 45s\tremaining: 9m 20s\n",
      "210:\ttotal: 6m 48s\tremaining: 9m 19s\n",
      "211:\ttotal: 6m 51s\tremaining: 9m 19s\n",
      "212:\ttotal: 6m 54s\tremaining: 9m 18s\n",
      "213:\ttotal: 6m 54s\tremaining: 9m 14s\n",
      "214:\ttotal: 6m 57s\tremaining: 9m 13s\n",
      "215:\ttotal: 7m\tremaining: 9m 12s\n",
      "216:\ttotal: 7m 3s\tremaining: 9m 11s\n",
      "217:\ttotal: 7m 4s\tremaining: 9m 8s\n",
      "218:\ttotal: 7m 4s\tremaining: 9m 4s\n",
      "219:\ttotal: 7m 4s\tremaining: 9m\n",
      "220:\ttotal: 7m 7s\tremaining: 8m 59s\n",
      "221:\ttotal: 7m 10s\tremaining: 8m 58s\n",
      "222:\ttotal: 7m 10s\tremaining: 8m 54s\n",
      "223:\ttotal: 7m 13s\tremaining: 8m 53s\n",
      "224:\ttotal: 7m 13s\tremaining: 8m 49s\n"
     ]
    },
    {
     "name": "stdout",
     "output_type": "stream",
     "text": [
      "225:\ttotal: 7m 16s\tremaining: 8m 48s\n",
      "226:\ttotal: 7m 18s\tremaining: 8m 47s\n",
      "227:\ttotal: 7m 21s\tremaining: 8m 46s\n",
      "228:\ttotal: 7m 23s\tremaining: 8m 45s\n",
      "229:\ttotal: 7m 25s\tremaining: 8m 42s\n",
      "230:\ttotal: 7m 28s\tremaining: 8m 41s\n",
      "231:\ttotal: 7m 31s\tremaining: 8m 40s\n",
      "232:\ttotal: 7m 31s\tremaining: 8m 37s\n",
      "233:\ttotal: 7m 32s\tremaining: 8m 34s\n",
      "234:\ttotal: 7m 35s\tremaining: 8m 33s\n",
      "235:\ttotal: 7m 38s\tremaining: 8m 32s\n",
      "236:\ttotal: 7m 38s\tremaining: 8m 29s\n",
      "237:\ttotal: 7m 41s\tremaining: 8m 28s\n",
      "238:\ttotal: 7m 44s\tremaining: 8m 27s\n",
      "239:\ttotal: 7m 47s\tremaining: 8m 26s\n",
      "240:\ttotal: 7m 49s\tremaining: 8m 25s\n",
      "241:\ttotal: 7m 53s\tremaining: 8m 24s\n",
      "242:\ttotal: 7m 53s\tremaining: 8m 20s\n",
      "243:\ttotal: 7m 53s\tremaining: 8m 16s\n",
      "244:\ttotal: 7m 54s\tremaining: 8m 14s\n",
      "245:\ttotal: 7m 57s\tremaining: 8m 13s\n",
      "246:\ttotal: 8m\tremaining: 8m 12s\n",
      "247:\ttotal: 8m 1s\tremaining: 8m 9s\n",
      "248:\ttotal: 8m 1s\tremaining: 8m 5s\n",
      "249:\ttotal: 8m 1s\tremaining: 8m 1s\n",
      "250:\ttotal: 8m 4s\tremaining: 8m 1s\n",
      "251:\ttotal: 8m 8s\tremaining: 8m\n",
      "252:\ttotal: 8m 8s\tremaining: 7m 56s\n",
      "253:\ttotal: 8m 8s\tremaining: 7m 53s\n",
      "254:\ttotal: 8m 11s\tremaining: 7m 52s\n",
      "255:\ttotal: 8m 11s\tremaining: 7m 48s\n",
      "256:\ttotal: 8m 12s\tremaining: 7m 45s\n",
      "257:\ttotal: 8m 14s\tremaining: 7m 44s\n",
      "258:\ttotal: 8m 17s\tremaining: 7m 43s\n",
      "259:\ttotal: 8m 17s\tremaining: 7m 39s\n",
      "260:\ttotal: 8m 20s\tremaining: 7m 38s\n",
      "261:\ttotal: 8m 20s\tremaining: 7m 34s\n",
      "262:\ttotal: 8m 20s\tremaining: 7m 31s\n",
      "263:\ttotal: 8m 23s\tremaining: 7m 30s\n",
      "264:\ttotal: 8m 24s\tremaining: 7m 26s\n",
      "265:\ttotal: 8m 26s\tremaining: 7m 25s\n",
      "266:\ttotal: 8m 26s\tremaining: 7m 22s\n",
      "267:\ttotal: 8m 27s\tremaining: 7m 19s\n",
      "268:\ttotal: 8m 30s\tremaining: 7m 17s\n",
      "269:\ttotal: 8m 32s\tremaining: 7m 16s\n",
      "270:\ttotal: 8m 33s\tremaining: 7m 13s\n",
      "271:\ttotal: 8m 35s\tremaining: 7m 12s\n",
      "272:\ttotal: 8m 36s\tremaining: 7m 9s\n",
      "273:\ttotal: 8m 37s\tremaining: 7m 6s\n",
      "274:\ttotal: 8m 39s\tremaining: 7m 4s\n",
      "275:\ttotal: 8m 42s\tremaining: 7m 3s\n",
      "276:\ttotal: 8m 44s\tremaining: 7m 2s\n",
      "277:\ttotal: 8m 47s\tremaining: 7m 1s\n",
      "278:\ttotal: 8m 50s\tremaining: 7m\n",
      "279:\ttotal: 8m 53s\tremaining: 6m 59s\n",
      "280:\ttotal: 8m 55s\tremaining: 6m 57s\n",
      "281:\ttotal: 8m 55s\tremaining: 6m 54s\n",
      "282:\ttotal: 8m 58s\tremaining: 6m 53s\n",
      "283:\ttotal: 8m 59s\tremaining: 6m 50s\n",
      "284:\ttotal: 8m 59s\tremaining: 6m 46s\n",
      "285:\ttotal: 9m 2s\tremaining: 6m 45s\n",
      "286:\ttotal: 9m 2s\tremaining: 6m 42s\n",
      "287:\ttotal: 9m 5s\tremaining: 6m 41s\n",
      "288:\ttotal: 9m 7s\tremaining: 6m 40s\n",
      "289:\ttotal: 9m 8s\tremaining: 6m 36s\n",
      "290:\ttotal: 9m 11s\tremaining: 6m 35s\n",
      "291:\ttotal: 9m 11s\tremaining: 6m 32s\n",
      "292:\ttotal: 9m 11s\tremaining: 6m 29s\n",
      "293:\ttotal: 9m 11s\tremaining: 6m 26s\n",
      "294:\ttotal: 9m 12s\tremaining: 6m 23s\n",
      "295:\ttotal: 9m 12s\tremaining: 6m 20s\n",
      "296:\ttotal: 9m 12s\tremaining: 6m 17s\n",
      "297:\ttotal: 9m 14s\tremaining: 6m 15s\n",
      "298:\ttotal: 9m 16s\tremaining: 6m 14s\n",
      "299:\ttotal: 9m 17s\tremaining: 6m 11s\n",
      "300:\ttotal: 9m 18s\tremaining: 6m 8s\n",
      "301:\ttotal: 9m 18s\tremaining: 6m 5s\n",
      "302:\ttotal: 9m 18s\tremaining: 6m 2s\n",
      "303:\ttotal: 9m 18s\tremaining: 6m\n",
      "304:\ttotal: 9m 19s\tremaining: 5m 57s\n",
      "305:\ttotal: 9m 22s\tremaining: 5m 56s\n",
      "306:\ttotal: 9m 22s\tremaining: 5m 53s\n",
      "307:\ttotal: 9m 22s\tremaining: 5m 50s\n",
      "308:\ttotal: 9m 25s\tremaining: 5m 49s\n",
      "309:\ttotal: 9m 28s\tremaining: 5m 48s\n",
      "310:\ttotal: 9m 29s\tremaining: 5m 46s\n",
      "311:\ttotal: 9m 29s\tremaining: 5m 43s\n",
      "312:\ttotal: 9m 32s\tremaining: 5m 42s\n",
      "313:\ttotal: 9m 35s\tremaining: 5m 40s\n",
      "314:\ttotal: 9m 35s\tremaining: 5m 38s\n",
      "315:\ttotal: 9m 38s\tremaining: 5m 37s\n",
      "316:\ttotal: 9m 41s\tremaining: 5m 35s\n",
      "317:\ttotal: 9m 42s\tremaining: 5m 33s\n",
      "318:\ttotal: 9m 42s\tremaining: 5m 30s\n",
      "319:\ttotal: 9m 45s\tremaining: 5m 29s\n",
      "320:\ttotal: 9m 46s\tremaining: 5m 26s\n",
      "321:\ttotal: 9m 48s\tremaining: 5m 25s\n",
      "322:\ttotal: 9m 49s\tremaining: 5m 22s\n",
      "323:\ttotal: 9m 51s\tremaining: 5m 21s\n",
      "324:\ttotal: 9m 52s\tremaining: 5m 19s\n",
      "325:\ttotal: 9m 55s\tremaining: 5m 17s\n",
      "326:\ttotal: 9m 58s\tremaining: 5m 16s\n",
      "327:\ttotal: 9m 58s\tremaining: 5m 13s\n",
      "328:\ttotal: 9m 58s\tremaining: 5m 11s\n",
      "329:\ttotal: 9m 59s\tremaining: 5m 8s\n",
      "330:\ttotal: 9m 59s\tremaining: 5m 6s\n",
      "331:\ttotal: 9m 59s\tremaining: 5m 3s\n",
      "332:\ttotal: 10m 2s\tremaining: 5m 2s\n",
      "333:\ttotal: 10m 2s\tremaining: 4m 59s\n",
      "334:\ttotal: 10m 4s\tremaining: 4m 57s\n",
      "335:\ttotal: 10m 4s\tremaining: 4m 55s\n",
      "336:\ttotal: 10m 7s\tremaining: 4m 54s\n",
      "337:\ttotal: 10m 7s\tremaining: 4m 51s\n",
      "338:\ttotal: 10m 10s\tremaining: 4m 50s\n",
      "339:\ttotal: 10m 13s\tremaining: 4m 48s\n",
      "340:\ttotal: 10m 14s\tremaining: 4m 46s\n",
      "341:\ttotal: 10m 14s\tremaining: 4m 43s\n",
      "342:\ttotal: 10m 17s\tremaining: 4m 42s\n",
      "343:\ttotal: 10m 18s\tremaining: 4m 40s\n",
      "344:\ttotal: 10m 21s\tremaining: 4m 39s\n",
      "345:\ttotal: 10m 23s\tremaining: 4m 37s\n",
      "346:\ttotal: 10m 26s\tremaining: 4m 36s\n",
      "347:\ttotal: 10m 26s\tremaining: 4m 33s\n",
      "348:\ttotal: 10m 26s\tremaining: 4m 31s\n",
      "349:\ttotal: 10m 29s\tremaining: 4m 29s\n",
      "350:\ttotal: 10m 32s\tremaining: 4m 28s\n",
      "351:\ttotal: 10m 35s\tremaining: 4m 27s\n",
      "352:\ttotal: 10m 38s\tremaining: 4m 25s\n",
      "353:\ttotal: 10m 40s\tremaining: 4m 24s\n",
      "354:\ttotal: 10m 41s\tremaining: 4m 21s\n",
      "355:\ttotal: 10m 43s\tremaining: 4m 20s\n",
      "356:\ttotal: 10m 46s\tremaining: 4m 18s\n",
      "357:\ttotal: 10m 48s\tremaining: 4m 17s\n",
      "358:\ttotal: 10m 49s\tremaining: 4m 14s\n",
      "359:\ttotal: 10m 51s\tremaining: 4m 13s\n",
      "360:\ttotal: 10m 54s\tremaining: 4m 12s\n",
      "361:\ttotal: 10m 57s\tremaining: 4m 10s\n",
      "362:\ttotal: 11m\tremaining: 4m 9s\n",
      "363:\ttotal: 11m\tremaining: 4m 6s\n",
      "364:\ttotal: 11m 3s\tremaining: 4m 5s\n",
      "365:\ttotal: 11m 6s\tremaining: 4m 3s\n",
      "366:\ttotal: 11m 9s\tremaining: 4m 2s\n",
      "367:\ttotal: 11m 12s\tremaining: 4m 1s\n",
      "368:\ttotal: 11m 13s\tremaining: 3m 58s\n",
      "369:\ttotal: 11m 13s\tremaining: 3m 56s\n",
      "370:\ttotal: 11m 15s\tremaining: 3m 55s\n",
      "371:\ttotal: 11m 18s\tremaining: 3m 53s\n",
      "372:\ttotal: 11m 21s\tremaining: 3m 52s\n",
      "373:\ttotal: 11m 24s\tremaining: 3m 50s\n",
      "374:\ttotal: 11m 27s\tremaining: 3m 49s\n",
      "375:\ttotal: 11m 30s\tremaining: 3m 47s\n",
      "376:\ttotal: 11m 30s\tremaining: 3m 45s\n",
      "377:\ttotal: 11m 33s\tremaining: 3m 43s\n",
      "378:\ttotal: 11m 36s\tremaining: 3m 42s\n",
      "379:\ttotal: 11m 39s\tremaining: 3m 40s\n",
      "380:\ttotal: 11m 39s\tremaining: 3m 38s\n",
      "381:\ttotal: 11m 39s\tremaining: 3m 36s\n",
      "382:\ttotal: 11m 40s\tremaining: 3m 34s\n",
      "383:\ttotal: 11m 42s\tremaining: 3m 32s\n",
      "384:\ttotal: 11m 45s\tremaining: 3m 30s\n",
      "385:\ttotal: 11m 47s\tremaining: 3m 29s\n",
      "386:\ttotal: 11m 48s\tremaining: 3m 26s\n",
      "387:\ttotal: 11m 48s\tremaining: 3m 24s\n",
      "388:\ttotal: 11m 49s\tremaining: 3m 22s\n",
      "389:\ttotal: 11m 49s\tremaining: 3m 20s\n",
      "390:\ttotal: 11m 51s\tremaining: 3m 18s\n",
      "391:\ttotal: 11m 51s\tremaining: 3m 15s\n",
      "392:\ttotal: 11m 51s\tremaining: 3m 13s\n",
      "393:\ttotal: 11m 54s\tremaining: 3m 12s\n",
      "394:\ttotal: 11m 57s\tremaining: 3m 10s\n",
      "395:\ttotal: 12m\tremaining: 3m 9s\n",
      "396:\ttotal: 12m 3s\tremaining: 3m 7s\n",
      "397:\ttotal: 12m 6s\tremaining: 3m 6s\n",
      "398:\ttotal: 12m 6s\tremaining: 3m 3s\n",
      "399:\ttotal: 12m 6s\tremaining: 3m 1s\n",
      "400:\ttotal: 12m 8s\tremaining: 2m 59s\n",
      "401:\ttotal: 12m 11s\tremaining: 2m 58s\n",
      "402:\ttotal: 12m 14s\tremaining: 2m 56s\n",
      "403:\ttotal: 12m 14s\tremaining: 2m 54s\n",
      "404:\ttotal: 12m 14s\tremaining: 2m 52s\n",
      "405:\ttotal: 12m 15s\tremaining: 2m 50s\n",
      "406:\ttotal: 12m 15s\tremaining: 2m 48s\n",
      "407:\ttotal: 12m 18s\tremaining: 2m 46s\n",
      "408:\ttotal: 12m 18s\tremaining: 2m 44s\n",
      "409:\ttotal: 12m 18s\tremaining: 2m 42s\n",
      "410:\ttotal: 12m 21s\tremaining: 2m 40s\n",
      "411:\ttotal: 12m 21s\tremaining: 2m 38s\n",
      "412:\ttotal: 12m 21s\tremaining: 2m 36s\n",
      "413:\ttotal: 12m 22s\tremaining: 2m 34s\n",
      "414:\ttotal: 12m 24s\tremaining: 2m 32s\n",
      "415:\ttotal: 12m 24s\tremaining: 2m 30s\n",
      "416:\ttotal: 12m 24s\tremaining: 2m 28s\n",
      "417:\ttotal: 12m 24s\tremaining: 2m 26s\n",
      "418:\ttotal: 12m 24s\tremaining: 2m 23s\n",
      "419:\ttotal: 12m 27s\tremaining: 2m 22s\n",
      "420:\ttotal: 12m 27s\tremaining: 2m 20s\n",
      "421:\ttotal: 12m 30s\tremaining: 2m 18s\n",
      "422:\ttotal: 12m 30s\tremaining: 2m 16s\n",
      "423:\ttotal: 12m 31s\tremaining: 2m 14s\n",
      "424:\ttotal: 12m 34s\tremaining: 2m 13s\n",
      "425:\ttotal: 12m 37s\tremaining: 2m 11s\n",
      "426:\ttotal: 12m 37s\tremaining: 2m 9s\n",
      "427:\ttotal: 12m 40s\tremaining: 2m 7s\n",
      "428:\ttotal: 12m 43s\tremaining: 2m 6s\n",
      "429:\ttotal: 12m 43s\tremaining: 2m 4s\n",
      "430:\ttotal: 12m 46s\tremaining: 2m 2s\n",
      "431:\ttotal: 12m 49s\tremaining: 2m 1s\n",
      "432:\ttotal: 12m 52s\tremaining: 1m 59s\n",
      "433:\ttotal: 12m 55s\tremaining: 1m 57s\n",
      "434:\ttotal: 12m 57s\tremaining: 1m 56s\n",
      "435:\ttotal: 13m\tremaining: 1m 54s\n",
      "436:\ttotal: 13m 3s\tremaining: 1m 52s\n",
      "437:\ttotal: 13m 6s\tremaining: 1m 51s\n",
      "438:\ttotal: 13m 6s\tremaining: 1m 49s\n",
      "439:\ttotal: 13m 9s\tremaining: 1m 47s\n",
      "440:\ttotal: 13m 9s\tremaining: 1m 45s\n",
      "441:\ttotal: 13m 9s\tremaining: 1m 43s\n",
      "442:\ttotal: 13m 12s\tremaining: 1m 42s\n",
      "443:\ttotal: 13m 15s\tremaining: 1m 40s\n",
      "444:\ttotal: 13m 18s\tremaining: 1m 38s\n",
      "445:\ttotal: 13m 21s\tremaining: 1m 37s\n"
     ]
    },
    {
     "name": "stdout",
     "output_type": "stream",
     "text": [
      "446:\ttotal: 13m 21s\tremaining: 1m 35s\n",
      "447:\ttotal: 13m 24s\tremaining: 1m 33s\n",
      "448:\ttotal: 13m 24s\tremaining: 1m 31s\n",
      "449:\ttotal: 13m 25s\tremaining: 1m 29s\n",
      "450:\ttotal: 13m 25s\tremaining: 1m 27s\n",
      "451:\ttotal: 13m 25s\tremaining: 1m 25s\n",
      "452:\ttotal: 13m 25s\tremaining: 1m 23s\n",
      "453:\ttotal: 13m 28s\tremaining: 1m 21s\n",
      "454:\ttotal: 13m 28s\tremaining: 1m 19s\n",
      "455:\ttotal: 13m 28s\tremaining: 1m 18s\n",
      "456:\ttotal: 13m 29s\tremaining: 1m 16s\n",
      "457:\ttotal: 13m 29s\tremaining: 1m 14s\n",
      "458:\ttotal: 13m 32s\tremaining: 1m 12s\n",
      "459:\ttotal: 13m 35s\tremaining: 1m 10s\n",
      "460:\ttotal: 13m 36s\tremaining: 1m 9s\n",
      "461:\ttotal: 13m 39s\tremaining: 1m 7s\n",
      "462:\ttotal: 13m 39s\tremaining: 1m 5s\n",
      "463:\ttotal: 13m 42s\tremaining: 1m 3s\n",
      "464:\ttotal: 13m 45s\tremaining: 1m 2s\n",
      "465:\ttotal: 13m 47s\tremaining: 1m\n",
      "466:\ttotal: 13m 50s\tremaining: 58.7s\n",
      "467:\ttotal: 13m 54s\tremaining: 57s\n",
      "468:\ttotal: 13m 55s\tremaining: 55.2s\n",
      "469:\ttotal: 13m 55s\tremaining: 53.3s\n",
      "470:\ttotal: 13m 58s\tremaining: 51.6s\n",
      "471:\ttotal: 14m 1s\tremaining: 49.9s\n",
      "472:\ttotal: 14m 4s\tremaining: 48.2s\n",
      "473:\ttotal: 14m 7s\tremaining: 46.5s\n",
      "474:\ttotal: 14m 7s\tremaining: 44.6s\n",
      "475:\ttotal: 14m 10s\tremaining: 42.9s\n",
      "476:\ttotal: 14m 11s\tremaining: 41s\n",
      "477:\ttotal: 14m 11s\tremaining: 39.2s\n",
      "478:\ttotal: 14m 14s\tremaining: 37.5s\n",
      "479:\ttotal: 14m 15s\tremaining: 35.7s\n",
      "480:\ttotal: 14m 15s\tremaining: 33.8s\n",
      "481:\ttotal: 14m 16s\tremaining: 32s\n",
      "482:\ttotal: 14m 16s\tremaining: 30.1s\n",
      "483:\ttotal: 14m 19s\tremaining: 28.4s\n",
      "484:\ttotal: 14m 19s\tremaining: 26.6s\n",
      "485:\ttotal: 14m 20s\tremaining: 24.8s\n",
      "486:\ttotal: 14m 23s\tremaining: 23.1s\n",
      "487:\ttotal: 14m 26s\tremaining: 21.3s\n",
      "488:\ttotal: 14m 27s\tremaining: 19.5s\n",
      "489:\ttotal: 14m 28s\tremaining: 17.7s\n",
      "490:\ttotal: 14m 28s\tremaining: 15.9s\n",
      "491:\ttotal: 14m 28s\tremaining: 14.1s\n",
      "492:\ttotal: 14m 31s\tremaining: 12.4s\n",
      "493:\ttotal: 14m 31s\tremaining: 10.6s\n",
      "494:\ttotal: 14m 34s\tremaining: 8.83s\n",
      "495:\ttotal: 14m 37s\tremaining: 7.08s\n",
      "496:\ttotal: 14m 40s\tremaining: 5.32s\n",
      "497:\ttotal: 14m 43s\tremaining: 3.55s\n",
      "498:\ttotal: 14m 43s\tremaining: 1.77s\n",
      "499:\ttotal: 14m 46s\tremaining: 0us\n"
     ]
    },
    {
     "data": {
      "text/plain": [
       "0.8195"
      ]
     },
     "execution_count": 86,
     "metadata": {},
     "output_type": "execute_result"
    }
   ],
   "source": [
    "# Prend beaucoup de temps  \n",
    "classifier = CatBoostClassifier(iterations=500,\n",
    "                             learning_rate=0.02,\n",
    "                             depth=12,\n",
    "                             eval_metric='AUC',\n",
    "                             bagging_temperature = 0.2,\n",
    "                             od_type='Iter',\n",
    "                             od_wait=100)\n",
    "classifier.fit(X_train, y_train,verbose=True)\n",
    "predictions = classifier.predict(X_test)\n",
    "\n",
    "accuracy_score(y_true = y_test, y_pred = predictions)"
   ]
  },
  {
   "cell_type": "code",
   "execution_count": 88,
   "metadata": {},
   "outputs": [
    {
     "data": {
      "text/plain": [
       "0.6520720976782002"
      ]
     },
     "execution_count": 88,
     "metadata": {},
     "output_type": "execute_result"
    }
   ],
   "source": [
    "roc_auc_score(y_test, predictions)"
   ]
  },
  {
   "cell_type": "markdown",
   "metadata": {},
   "source": [
    "### XGBoost"
   ]
  },
  {
   "cell_type": "code",
   "execution_count": null,
   "metadata": {},
   "outputs": [],
   "source": [
    "for col in columns:\n",
    "    X_train[col] = X_train[col].astype(float)\n",
    "    y_train = y_train.astype(float)\n",
    "    X_test[col] = X_test[col].astype(float)\n",
    "    y_test = y_test.astype(float)"
   ]
  },
  {
   "cell_type": "code",
   "execution_count": 52,
   "metadata": {},
   "outputs": [
    {
     "name": "stderr",
     "output_type": "stream",
     "text": [
      "D:\\Applications\\lib\\site-packages\\ipykernel_launcher.py:4: SettingWithCopyWarning: \n",
      "A value is trying to be set on a copy of a slice from a DataFrame.\n",
      "Try using .loc[row_indexer,col_indexer] = value instead\n",
      "\n",
      "See the caveats in the documentation: http://pandas.pydata.org/pandas-docs/stable/indexing.html#indexing-view-versus-copy\n",
      "  after removing the cwd from sys.path.\n",
      "D:\\Applications\\lib\\site-packages\\ipykernel_launcher.py:6: SettingWithCopyWarning: \n",
      "A value is trying to be set on a copy of a slice from a DataFrame.\n",
      "Try using .loc[row_indexer,col_indexer] = value instead\n",
      "\n",
      "See the caveats in the documentation: http://pandas.pydata.org/pandas-docs/stable/indexing.html#indexing-view-versus-copy\n",
      "  \n"
     ]
    },
    {
     "name": "stdout",
     "output_type": "stream",
     "text": [
      "[0]\ttrain-auc:0.695712\ttest-auc:0.684017\n",
      "Multiple eval metrics have been passed: 'test-auc' will be used for early stopping.\n",
      "\n",
      "Will train until test-auc hasn't improved in 50 rounds.\n",
      "[50]\ttrain-auc:0.768834\ttest-auc:0.762227\n",
      "[100]\ttrain-auc:0.777975\ttest-auc:0.772541\n",
      "[150]\ttrain-auc:0.78299\ttest-auc:0.776322\n",
      "[200]\ttrain-auc:0.786917\ttest-auc:0.778706\n",
      "[250]\ttrain-auc:0.789848\ttest-auc:0.780386\n",
      "[300]\ttrain-auc:0.792078\ttest-auc:0.780872\n",
      "[350]\ttrain-auc:0.794054\ttest-auc:0.781283\n",
      "[400]\ttrain-auc:0.795949\ttest-auc:0.781675\n",
      "[450]\ttrain-auc:0.797705\ttest-auc:0.782182\n",
      "[500]\ttrain-auc:0.799183\ttest-auc:0.782331\n",
      "Stopping. Best iteration:\n",
      "[463]\ttrain-auc:0.798116\ttest-auc:0.782483\n",
      "\n"
     ]
    }
   ],
   "source": [
    "# Prepare the train and valid datasets\n",
    "\n",
    "dtrain = xgb.DMatrix(X_train, y_train)\n",
    "dtest = xgb.DMatrix(X_test, y_test)\n",
    "\n",
    "#What to monitor (in this case, **train** and **valid**)\n",
    "watchlist = [(dtrain, 'train'), (dtest, 'test')]\n",
    "\n",
    "# Set xgboost parameters\n",
    "params = {}\n",
    "params['objective'] = 'binary:logistic'\n",
    "params['eta'] = 0.039\n",
    "params['silent'] = True\n",
    "params['max_depth'] = 2\n",
    "params['subsample'] = 0.8\n",
    "params['colsample_bytree'] = 0.9\n",
    "params['eval_metric'] = 'auc'\n",
    "\n",
    "model = xgb.train(params, \n",
    "                dtrain, \n",
    "                1000, \n",
    "                watchlist, \n",
    "                early_stopping_rounds=50, \n",
    "                maximize=True, \n",
    "                verbose_eval=50)"
   ]
  },
  {
   "cell_type": "code",
   "execution_count": 38,
   "metadata": {},
   "outputs": [
    {
     "data": {
      "image/png": "[encoded data removed]",
      "text/plain": [
       "<Figure size 576x360 with 1 Axes>"
      ]
     },
     "metadata": {
      "needs_background": "light"
     },
     "output_type": "display_data"
    }
   ],
   "source": [
    "fig, (ax) = plt.subplots(ncols=1, figsize=(8,5))\n",
    "xgb.plot_importance(model, height=0.8, title=\"Features importance (XGBoost)\", ax=ax, color=\"green\") \n",
    "plt.show()"
   ]
  },
  {
   "cell_type": "markdown",
   "metadata": {},
   "source": [
    "### LightGBM"
   ]
  },
  {
   "cell_type": "code",
   "execution_count": 68,
   "metadata": {},
   "outputs": [],
   "source": [
    "params = {\n",
    "          \"objective\" : \"regression\",\n",
    "            \"metric\" : \"auc\", \n",
    "            \"num_leaves\" : 30,\n",
    "            \"learning_rate\" : 0.1\n",
    "         }"
   ]
  },
  {
   "cell_type": "code",
   "execution_count": 69,
   "metadata": {},
   "outputs": [],
   "source": [
    "dtrain = lgb.Dataset(X_train, \n",
    "                     label=y_train)\n",
    "\n",
    "dtest = lgb.Dataset(X_test,\n",
    "                     label=y_test)"
   ]
  },
  {
   "cell_type": "code",
   "execution_count": 72,
   "metadata": {},
   "outputs": [
    {
     "name": "stdout",
     "output_type": "stream",
     "text": [
      "Training until validation scores don't improve for 100 rounds.\n",
      "[50]\ttrain's auc: 0.827713\ttest's auc: 0.781752\n",
      "[100]\ttrain's auc: 0.861397\ttest's auc: 0.776558\n",
      "Did not meet early stopping. Best iteration is:\n",
      "[100]\ttrain's auc: 0.861397\ttest's auc: 0.776558\n"
     ]
    }
   ],
   "source": [
    "evals_results = {}\n",
    "\n",
    "model = lgb.train(params, \n",
    "                  dtrain, \n",
    "                  valid_sets=[dtrain,dtest], \n",
    "                  valid_names=['train','test'], \n",
    "                  early_stopping_rounds=100,\n",
    "                  verbose_eval=50, \n",
    "                  feval=None)"
   ]
  },
  {
   "cell_type": "markdown",
   "metadata": {},
   "source": [
    "# Results"
   ]
  },
  {
   "cell_type": "code",
   "execution_count": null,
   "metadata": {},
   "outputs": [],
   "source": [
    "results =[ [\"DecisionTreeClassifier\", \"RandomForestClassifier\", \"CatBoostClassifier\", \"XGBoost\", \"LightGBM\"] , \n",
    "           []\n",
    "         ]"
   ]
  }
 ],
 "metadata": {
  "kernelspec": {
   "display_name": "Python 3",
   "language": "python",
   "name": "python3"
  },
  "language_info": {
   "codemirror_mode": {
    "name": "ipython",
    "version": 3
   },
   "file_extension": ".py",
   "mimetype": "text/x-python",
   "name": "python",
   "nbconvert_exporter": "python",
   "pygments_lexer": "ipython3",
   "version": "3.7.0"
  }
 },
 "nbformat": 4,
 "nbformat_minor": 2
}
